{
 "cells": [
  {
   "cell_type": "markdown",
   "metadata": {},
   "source": [
    "### PDBArrows\n",
    "\n",
    "This script creates a bild file to draw arrows in chimera between coordinates in space. The workflow includes a sequence alignment to make sure the right residues are paired between the two sequences.\n",
    "\n",
    "1. Align the two structures and save them on the same coordinate system. Decide the start and end positions for drawing arrows\n",
    "2. Run Part 1 below to generate your input for sequence alignment.\n",
    "3. Copy the output into your favourite alignment software (e.g. clustalw), making sure the output of the alignment is in the same order as the input.\n",
    "4. Change the variables in Part 2 to point to the alignment and specify the bild output name.\n"
   ]
  },
  {
   "cell_type": "markdown",
   "metadata": {},
   "source": [
    "### Dependencies"
   ]
  },
  {
   "cell_type": "code",
   "execution_count": 1,
   "metadata": {},
   "outputs": [],
   "source": [
    "from biopandas.pdb import PandasPdb\n",
    "import pandas as pd\n",
    "from pandas import DataFrame\n",
    "from Bio import PDB\n",
    "from Bio import AlignIO\n",
    "import math"
   ]
  },
  {
   "cell_type": "markdown",
   "metadata": {},
   "source": [
    "### Part 1\n",
    "Change the variables below and run the cell to generate the input for sequence alignment"
   ]
  },
  {
   "cell_type": "code",
   "execution_count": 3,
   "metadata": {},
   "outputs": [
    {
     "name": "stdout",
     "output_type": "stream",
     "text": [
      "Align these two. KEEP THE ORDER AS INPUT\n",
      "\n",
      ">211111-HsHC-rebuilt\n",
      "QDLKGVWSELSKVWEQIDQMKEQPWVSVQPRKLRQNLDALLNQLKSFPARLRQYASYEFVQRLLKGYMKINMLVIELKSEALKDRHWKQLMKRLHVNWVVSELTLGQIWDVDLQKNEAIVKDVLLVAQGEMALEEFLKQIREVWNTYELDLVNYQNKCRLIRGWDDLFNKVKEHINSVSAMKLSPYYKVFEEDALSWEDKLNRIMALFDVWIDVQRRWVYLEGIFTGSADIKHLLPVETQRFQSISTEFLALMKKVSKSPLVMDVLNIQGVQRSLERLADLLGKIQKALGEYLERERSSFPRFYFVGDEDLLEIIGNSKNVAKLQKHFKKMFAGVSSIILNEDNSVVLGISSREGEEVMFKTPVSITEHPKINEWLTLVEKEMRVTLAKLLAESVTEVEIFGKATSIDPNTYITWIDKYQAQLVVLSAQIAWSENVETALSSMGGGGDAAPLHSVLSNVEVTLNVLADSVLMEQPPLRRRKLEHLITELVHQRDVTRSLIKSKIDNAKSFEWLSQMRFYFDPKQTDVLQQLSIQMANAKFNYGFEYLGVQDKLVQTPLTDRCYLTMTQALEARLGGSPFGPAGTGKTESVKALGHQLGRFVLVFNCDETFDFQAMGRIFVGLCQVGAWGCFDEFNRLEERMLSAVSQQVQCIQEALREHSNPNYDKTSAPITCELLNKQVKVSPDMAIFITMNPGYAGRSNLPDNLKKLFRSLAMTKPDRQLIAQVMLYSQGFRTAEVLANKIVPFFKLCDEQLSSQSHYDFGLRALKSVLVSAGNVKRERIQKIKREKEERGEAVDEGEIAENLPEQEILIQSVCETMVPKLVAEDIPLLFSLLSDVFPGVQYHRGEMTALREELKKVCQEMYLTYGDGEEVGGMWVEKVLQLYQITQINHGLMMVGPSGSGKSMAWRVLLKALERLEGVEGVAHIIDPKAISKDHLYGTLDPNTREWTDGLFTHVLRKIIDSVRGELQKRQWIVFDGDVDPEWVENLNSVLDDNKLLTLPNGERLSLPPNVRIMFEVQDLKYATLATVSRCGMVWFSEDVLSTDMIFNNFLARLRSIPLDEGEDEAQRRRKGKEDEGEEAASPMLQIQRDAATIMQPYFTSNGLVTKALEHAFQLEHIMDLTRLRCLGSLFSMLHQACRNVAQYNANHPDFPMQIEQLERYIQRYLVYAILWSLSGDSRLKMRAELGEYIRRITTVPLPTAPNIPIIDYEVSISGEWSPWQAKVPQIEVETHKVAAPDVVVPTLDTVRHEALLYTWLAEHKPLVLCGPPGSGKTMTLFSALRALPDMEVVGLNFSSATTPELLLKTFDHYCEYRRTPNGVVLAPVQLGKWLVLFCDEINLPDMDKYGTQRVISFIRQMVEHGGFYRTSDQTWVKLERIQFVGACNPPTDPGRKPLSHRFLRHVPVVYVDYPGPASLTQIYGTFNRAMLRLIPSLRTYAEPLTAAMVEFYTMSQERFTQDTQPHYIYSPREMTRWVRGIFEALRPLETLPVEGLIRIWAHEALRLFQDRLVEDEERRWTDENIDTVALKHFPNIDREKAMSRPILYSNWLSKDYIPVDQEELRDYVKARLKVFYEEELDVPLVLFNEVLDHVLRIDRIFRQPQGHLLLIGVSGAGKTTLSRFVAWMNGLSVYQIKVHRKYTGEDFDEDLRTVLRRSGCKNEKIAFIMDESNVLDSGFLERMNTLLANGEVPGLFEGDEYATLMTQCKEGAQKEGLMLDSHEELYKWFTSQVIRNLHVVFTMNPSSEGLKDRAATSPALFNRCVLNWFGDWSTEALYQVGKEFTSKMDLEKPNYIVPDYMPVVYDKLPQPPSHREAIVNSCVFVHQTLHQANARLAKRGGRTMAITPRHYLDFINHYANLFHEKRSELEEQQMHLNVGLRKIKETVDQVEELRRDLRIKSQELEVKNAAANDKLKKMVKDQQEAEKKKVMSQEIQEQLHKQQEVIADKQMSVKEDLDKVEPAVIEAQNAVKSIKKQHLVEVRSMANPPAAVKLALESICLLLGESTTDWKQIRSIIMRENFIPTIVNFSAEEISDAIREKMKKNYMSNPSYNYEIVNRASLACGPMVKWAIAQLNYADMLKRVEPLRNELQKLEDDAKDNQQKANEVEQMIRDLEASIARYKEEYAVLISEAQAIKADLAAVEAKVNRSTALLKSLSAERERWEKTSETFKNQMSTIAGDCLLSAAFIAYAGYFDQQMRQNLFTTWSHHLQQANIQFRTDIARTEYLSNADERLRWQASSLPADDLCTENAIMLKRFNRYPLIIDPSGQATEFIMNEYKDRKITRTSFLDDAFRKNLESALRFGNPLLVQDVESYDPVLNPVLNREVRRTGGRVLITLGDQDIDLSPSFVIFLSTRDPTVEFPPDLCSRVTFVNFTVTRSSLQSQCLNEVLKAERPDVDEKRSDLLKLQGEFQLRLRQLEKSLLQALNEVKGRILDDDTIITTLENLKREAAEVTRKVEETDIVMQEVETVSQQYLPLSTACSSIYFTMESLKQIHFLYQYSLQFFLDIYHNVLYENPNLKGVTDHTQRLSIITKDLFQVAFNRVARGMLHQDHITFAMLLARIKLKGTGEPTYDAEFQHFLRGNEIVLSAGSTPRIQGLTVEQAEAVVRLSCLPAFKDLIAKVQADEQFGIWLDSSSPEQTVPYLWTPATPIGQAIHRLLLIQAFRPDRLLAMAHMFVSTNLGESFMSIMEQPLDLTHIVGTEVKPNTPVLMCSVPGYDASGHVEDLAAEQNTQITSIAIGSAEGFNQADKAINTAVKSGRWVMLKNVHLAPGWLMQLEKKLHSLQPHACFRLFLTMEINPKVPVNLLRAGRIFVFEPPPGVKANMLRTFSSIPVSRICKSPNERARLYFLLAWFHAIIQERLRYAPLGWSKKYEFGESDLRSACDTVDTWLDDTAKGRQNISPDKIPWSALKTLMAQSIYGGRVDNEFDQRLLNTFLERLFTTRSFDSEFKLACKVDGHKDIQMPDGIRREEFVQWVELLPDTQTPSWLGLPNNAERVLLTTQGVDMISKMLKMQMLEDEDDLAYAETETLHTTASNWLHLIPQTLSHLKRTVENIKDPLFRFFEREVKMGAKLLQDVRQDLADVVQVCEGKKKQTNYLRTLINELVKGILPRSWSHYTVPAGMTVIQWVSDFSERIKQLQNISLAAASGGAKELKNIHVCLGGLFVPEAYITATRQYVAQANSWSLEELCLEVNVTTSQGATLDACSFGVTGLKLQGATCNNNKLSLSNAISTALPLTQLRWVKQTNTEKKASVVTLPVYLNFTRADLIFTVDFEIATKEDPRSFYERGVAVLCTE\n",
      ">3VKG-ADP-relAAA3L\n",
      "EIDSLKETAWSAIIPAFDHAQNLIKIYLKGNAIITDLHSEAIKDRHWKILKKRLNTNWIITELTLGSIWDSDLARNENIYREVITAAQGEIALEEFLKGVREFWTTLELDLVNYQRKCKLVRGWDDLFNKLAEHLNSISAMKMSPYYKVFEEEANHWDDRLNKVRSLLDVWIDVQRRWVYLEGIFINQLLPAESTRFKSINSEFIAILKKVSGAPLILEVLAIERIQQTMERLSDLLGKVQKALGEYLERQRSAFARFYFVGDEDLLEIIGNSKDIIKIQKHFRKMFAGLANLTLDDEKTTIIGMSSAEGETVTFKKPISIANGPKIHEWLTMVESEMKSTLATLLSESLQHFNQVDVNDHSKYSEWVDNYPTQLVLLTSQIVWSTQVDQALGGGTLQQSKIQEQLQSIEQTTQMILNNLADSVLQDLSAQKRKKFEHLITELVHQRDVVRQLQKCKNLTGNKDFDWLYHMRYYYDATQENVLHKLVIHMANATFYYGFEYLGIGERLVQTPLTDRCYLTLTQALESRMGGNPFGPAGTGKTETVKALGSQLGRFVLVFCCDEGFDLQAMSRIFVGLCQCGAWGCFDEFNRLEERILSAVSQQIQTIQVALKENSKEVELLNISLHQDMGIFVTMNPGYAGRSNLPDNLKKLFRSMAMIKPDREMIAQVMLYSQGFKTAEVLAGKIVPLFKLCQEQLSAQSHYDFGLRALKSVLVSAGGIKRKCQPPDAESKTKADQIYCQYEIGVLLNSINDTMIPKLVADDIPLIQSLLLDVFPGSQLQPIQMDQLRKKIQEIAKQRHLVTKQEWVEKILQLHQILNINHGVMMVGPSGGGKTTSWEVYLEAIEQVDNIKSEAHVMDPKAITKDQLFGSLDLTTREWTDGLFTATLRRIIDNVRGESTKRHWIIFDGDVDPEWVENLNSLLDDNKLLTLPNGERLALPNNVRVMFEVQDLKYATLATISRCGMVWFSEEILTTQMIFQNYLDTLSNEPFDPQEKEQQKRNENAIPAGLKVQKECAAIISQYFEPGGLVHKVLEDAGQRPHIMDFTRLRVLNSFFSLMNRSIVNVIEYNQLHSDFPMSPENQSNYITNRLLYSLMWGLGGSMGLVERENFSKFIQTIAITPVPANTIPLLDYSVSIDDANWSLWKNKVEVETHKVASPDVVIPTVDTTRHVDVLHAWLSEHRPLILCGPPGSGKTMTLTSTLRAFPDFEVVSLNFSSATTPELLLKTFDHHCEYKRTPSGETVLRPTQLGKWLVVFCDEINLPSTDKYGTQRVITFIRQMVEKGGFWRTSDHTWIKLDKIQFVGACNPPTDAGRVQLTHRFLRHAPILLVDFPSTSSLTQIYGTFNRALMKLLPNLRSFADNLTDAMVEFYSESQKRFTPDIQAHYIYSPRELSRWDRALLEAIQTMDGCTLEGLVRLWAHEALRLFQDRLVETEEKEWTDKKIDEVALKHFPSVNLDALKRPILYSNWLTPVNRSDLREYVKARLKVFYPLVLFNEVLDHILRIDRVFRQPQGHALLIGVSGGGKSVLSRFVAWMNGLSIYTIKYKSSDFDDDLRMLLKRAGCKEEKICFIFDESNVLESSFLERMNTLLAGGEVPGLFEGEEFTALMHACKETAQRNGLILDSEEELYKYFTSQVRRNLHVVFTMNPASPDFHNSPALFNRCVLDWFGEWSPEALFQVGSEFTRNLDLENPQYIAPPVFIQEAEILMAIPPSHRDAVVSSLVYIHQTIGEANIRLLKRQGRQNYVTPRHYLDFINQVVLLINEKRDQLEEEQLHLNIGLKKLRDTEAQVKDLQVSLAQKNRELDVKNEQANQKLKQMVQDQQAAEIKQKDARELQVQLDVRNKEIAVQKVKAYADLPLREEVEQLENAANELKLKQDEIVATITALEKSIATYKEEYATLIRETEQIKTESSKVKNKVDRSIALLDNLNSERGRWEQQSENFNTQMSTVVGDVVLASAFLAYIGFFDQNFRTDLMRKWMIRLDSVGIKFKSDLSVPSFLSKPEERLNWHANSLPSDELCIENAIMLKRFNRYPLVIDPSGQAMEFLMNQYADKKITKTSFMKNLESALRFGCPLLVQDVESFMIFLFTRDPTAHFTPDLCSRVTFVNFTVTPSSLQSQCLHEALKTERPDTHKKRSDLLKIQGEFQVKLRILEKSLLNALSQASGNILDDDSVISTLETLKKETTEIALKVEETETVMQEISEVSALYNPMALSCSRVYFAMEELSQFHLYQFSLRAFLDIFYNLLNNNPNLVDKKDPNERLVYLSKDIFSMTFNRVTRTLLNDDKLTFALQLTIISVKGTSNEIEESEWDFLLKGGDNLTSIKETIPQLDSLLSTTQQKWLICLRQQVPSFSKLVDHIQQNSSDWKQFFGKDQVGEPIIPESWIVAQAQLSNQQSTIVSNFRKILLMKAFHSDRVLQYSHSFVCSVFGEDFLNTLDMANIVEKEVKSSSPLLLCSVPGYDASSKVDDLALQLHKQYKSFAIGSPEGFELAEKSIYAAAKSGTWVLLKNIHLAPQWLVQLEKKLHSLSPHPSFRLFMTSEIHPALPANLLRMSNVFSYENPPGVKANLLHTFIGIPATRMDKQPAERSRIYFLLAWFHAIIQERLRYIPLGWTKFFEFNDADLRGALDSIDYWVDLYSKGRSNIDPDKIPWIAVRTILGSTIYGGRIDNEFDMRLLYSFLEQLFTPSAFNPDFPLVPSIGLSVPEGTTRAHFMKWIEALPEISTPIWLGLPENAESLLLSNKARKMINDLQKMQSSEEDSSSSEDKGKAKPLFRCFEREISTGGKLVKKITNDLANLLKWYSVPETISLSVWISDFSKRMQQLSEISESVWLGGLLNPEAYITATRQSASQLNGRLHASASFNVKGMALEGAVWNNDQLTPTDILSTPISIATLTWKDPIFNNSSSKLSVPVYLNETRSELLFSIDLPYDQSTSKQNWYQRSVSISSWKSDLVNYQRKCKLVRGWDDLFNKLAEHLNSISHWDDRLNKVRSLLDVWIDVQRRWVYLEGIFSGSGDINQLLPAESTRFKSINSEFIAILKKVSGAPLILEVLAIERIQQTMERLSDLLGKVQKALGEYLERQRSAFARFYFVGDEDLLEIIGNSKDIIKIQKHFRKMFAGLANLTLDDEKTTIIGMSSAEGETVTFKKPISIANGPKIHEWLTMVESEMKSTLATLLSESLQHFNQVDVNDHSKYSEWVDNYPTQLVLLTSQIVWSTQVDQALGGGTLQQSKIQEQLQSIEQTTQMILNNLADSVLQDLSAQKRKKFEHLITELVHQRDVVRQLQKCKNLTGNKDFD\n"
     ]
    }
   ],
   "source": [
    "#########################################################\n",
    "#Change these variables\n",
    "\n",
    "\"\"\"\n",
    "The input pdbs\n",
    "\"\"\"\n",
    "pdb1 = 'Human-dynein-onMT.pdb'\n",
    "pdb2 = '3VKG-relativeAAA3L.pdb'\n",
    "\n",
    "\"\"\"\n",
    "A chimera-compatible color name. See here:\n",
    "https://www.cgl.ucsf.edu/chimerax/docs/user/commands/colornames.html\n",
    "\"\"\"\n",
    "arrowcolor = \"orchid\"\n",
    "\n",
    "\"\"\"\n",
    "Residues to draw \n",
    "\"\"\"\n",
    "start = 2573\n",
    "end = 3108\n",
    "\n",
    "#########################################################\n",
    "\n",
    "p1 = PandasPdb().read_pdb(pdb1).df['ATOM']\n",
    "p2 = PandasPdb().read_pdb(pdb2).df['ATOM']\n",
    "\n",
    "p1 = p1[p1['atom_name'] == 'CA']\n",
    "p2 = p2[p2['atom_name'] == 'CA']\n",
    "\n",
    "p1 = p1[['atom_name','residue_name', 'residue_number', 'x_coord', 'y_coord', 'z_coord']].reset_index()\n",
    "p2 = p2[['atom_name','residue_name', 'residue_number', 'x_coord', 'y_coord', 'z_coord']].reset_index()\n",
    "\n",
    "###############\n",
    "\n",
    "d = {'CYS': 'C', 'ASP': 'D', 'SER': 'S', 'GLN': 'Q', 'LYS': 'K',\n",
    "     'ILE': 'I', 'PRO': 'P', 'THR': 'T', 'PHE': 'F', 'ASN': 'N', \n",
    "     'GLY': 'G', 'HIS': 'H', 'LEU': 'L', 'ARG': 'R', 'TRP': 'W', \n",
    "     'ALA': 'A', 'VAL':'V', 'GLU': 'E', 'TYR': 'Y', 'MET': 'M', 'NA':'NA'}\n",
    "\n",
    "p1_res = p1.residue_name.tolist()\n",
    "p2_res = p2.residue_name.tolist()\n",
    "\n",
    "p1_res_fix = \"\"\n",
    "p2_res_fix = \"\"\n",
    "\n",
    "for i,j in zip(p1_res, p2_res):\n",
    "    p1_res_fix += d[i]\n",
    "    p2_res_fix += d[j]\n",
    "    \n",
    "print(\"Align these two. KEEP THE ORDER AS INPUT\\n\")\n",
    "    \n",
    "print(\">\" + pdb1.split(\"/\")[-1].split(\".\")[0])\n",
    "print(p1_res_fix)\n",
    "print(\">\" + pdb2.split(\"/\")[-1].split(\".\")[0])\n",
    "print(p2_res_fix)"
   ]
  },
  {
   "cell_type": "markdown",
   "metadata": {},
   "source": [
    "### Part 2\n",
    "\n",
    "Change the variables below to load the alignment file and to generate the bild file."
   ]
  },
  {
   "cell_type": "code",
   "execution_count": 8,
   "metadata": {},
   "outputs": [
    {
     "name": "stdout",
     "output_type": "stream",
     "text": [
      "Wrote AAA3-to3VKG.bild\n"
     ]
    }
   ],
   "source": [
    "#########################################################\n",
    "#Change these variables\n",
    "\n",
    "\"\"\"\n",
    "The output from aligning the sequences above\n",
    "\"\"\"\n",
    "\n",
    "alignmentfile = 'AAA3-to3VKG.clustal_num'\n",
    "\n",
    "\"\"\"\n",
    "The name for the output file generated by this script\n",
    "\"\"\"\n",
    "\n",
    "bildoutputname = 'AAA3-to3VKG.bild'\n",
    "\n",
    "\"\"\"\n",
    "The maximum distance between two points to draw\n",
    "\"\"\"\n",
    "\n",
    "maxdistance = 12\n",
    "\n",
    "#########################################################\n",
    "\n",
    "alignment = AlignIO.read(alignmentfile, 'clustal')\n",
    "\n",
    "p1ali = str(alignment[0].seq)\n",
    "p2ali = str(alignment[1].seq)\n",
    "\n",
    "p1coordsx = p1.x_coord.tolist()\n",
    "p1coordsy = p1.y_coord.tolist()\n",
    "p1coordsz = p1.z_coord.tolist()\n",
    "p1_resnum = p1.residue_number.tolist()\n",
    "\n",
    "p2coordsx = p2.x_coord.tolist()\n",
    "p2coordsy = p2.y_coord.tolist()\n",
    "p2coordsz = p2.z_coord.tolist()\n",
    "\n",
    "p1coords_ali = []\n",
    "p2coords_ali = []\n",
    "\n",
    "i = 0\n",
    "indices=[]\n",
    "for p in p1ali:\n",
    "    if p != \"-\":\n",
    "        p1coords_ali.append([p1coordsx[i], p1coordsy[i], p1coordsz[i]])\n",
    "        i+=1\n",
    "    else:\n",
    "        p1coords_ali.append([0])\n",
    "        \n",
    "i = 0\n",
    "for p in p2ali:\n",
    "    if p != \"-\":\n",
    "        p2coords_ali.append([p2coordsx[i], p2coordsy[i], p2coordsz[i]])\n",
    "        i+=1\n",
    "    else:\n",
    "        p2coords_ali.append([0])\n",
    "       \n",
    "coordinates = []\n",
    "num = p1_resnum[0]\n",
    "for i,j in zip(p1coords_ali, p2coords_ali):\n",
    "    if i != [0]:\n",
    "        if num >= start and num <= end and j != [0]:\n",
    "            coordinates.append([i, j])      \n",
    "        num+=1\n",
    "        \n",
    "#######################\n",
    "\n",
    "arrows = []\n",
    "\n",
    "r1 = 0.2\n",
    "r2 = 0.8\n",
    "rho = 0.75\n",
    "\n",
    "arrows.append(\".color \" + arrowcolor)\n",
    "\n",
    "for c in coordinates:\n",
    "    \n",
    "    [x1,y1,z1],[x2,y2,z2] = c\n",
    "    \n",
    "    if math.sqrt((x2 - x1)**2 + (y2 - y1)**2 + (z2 - z1)**2) < maxdistance:\n",
    "\n",
    "        arrows.append(\".arrow \" + str(x1) + \" \" + str(y1) + \" \" + str(z1) + \" \" + str(x2) + \" \" + str(y2) + \" \" + str(z2) + \" \" + str(r1) + \" \" + str(r2) + \" \" + str(rho))\n",
    "\n",
    "exportfile = open(bildoutputname, 'w')\n",
    "for item in arrows:\n",
    "    exportfile.write(\"%s\\n\" % item)\n",
    "exportfile.close()\n",
    "\n",
    "print(\"Wrote \" + bildoutputname)"
   ]
  },
  {
   "cell_type": "code",
   "execution_count": null,
   "metadata": {},
   "outputs": [],
   "source": []
  }
 ],
 "metadata": {
  "kernelspec": {
   "display_name": "Python 3",
   "language": "python",
   "name": "python3"
  },
  "language_info": {
   "codemirror_mode": {
    "name": "ipython",
    "version": 3
   },
   "file_extension": ".py",
   "mimetype": "text/x-python",
   "name": "python",
   "nbconvert_exporter": "python",
   "pygments_lexer": "ipython3",
   "version": "3.7.6"
  }
 },
 "nbformat": 4,
 "nbformat_minor": 4
}
